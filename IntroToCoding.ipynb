{
  "cells": [
    {
      "cell_type": "markdown",
      "metadata": {},
      "source": [
        "# Introduction to coding\n",
        "To start, we will learn about the basics of coding. This will cover topics such as inputs and outputs, variables, basic operations, data types, conditions, loops, and lists."
      ]
    },
    {
      "cell_type": "markdown",
      "metadata": {},
      "source": [
        "***\n",
        "# Part 0: Interacting with cells\n",
        "This file is made up of cells. They can either be code cells for writing and running code, or markdown cells for writing instructions. \n",
        "\n",
        "This cell is a markdown cell. You can tell it is a markdown cell because it will have large text at the top to tell you what it is talking about.\n",
        "\n",
        "This cell teaches you how to interact with cells so that you can complete the introduction. This cell structure is not used when writing code normally, but will be used today as it is helpful for teaching.\n",
        "\n",
        "You can run all cells by pressing the 'Run All' button near the top of the screen. \n",
        "\n",
        "When writing your own cell, you can run it by pressing 'Shift' and 'Enter' at the same time.\n",
        "\n",
        "Code cells are simple to edit, just write in them.\n",
        "\n",
        "To edit markdown cells, you can double click on them and then edit them. You will not need to edit markdown cells in this introduction, but it is good to know what to do if you do click on one by mistake.\n",
        "\n",
        "For this introduction, you should run every code cell to learn what the code does. There will then be a short task to be completed using the information you have just learned.\n",
        "\n",
        "## Task 0:\n",
        "Double click on this cell using the mouse, and then run it by pressing 'Shift' and 'Enter' at the same time. You will know you have done it correctly when there are solid lines along the top and bottom of this cell.\n",
        "***"
      ]
    },
    {
      "cell_type": "markdown",
      "metadata": {},
      "source": [
        "# Part 1: Inputs, outputs, and strings\n",
        "\n",
        "We can output text with the print() function. \n",
        "\n",
        "Everything inside the \" \" is called a string.\n",
        "\n",
        "A string is a data type that is a sequence of characters, this includes letters, numbers, and punctuation.\n",
        "\n",
        "Strings can also be made using ' '. "
      ]
    },
    {
      "cell_type": "code",
      "execution_count": 30,
      "metadata": {
        "trusted": true
      },
      "outputs": [
        {
          "name": "stdout",
          "output_type": "stream",
          "text": [
            "Hello World\n",
            "Hi World\n"
          ]
        }
      ],
      "source": [
        "print(\"Hello World\")\n",
        "\n",
        "print('Hi World')"
      ]
    },
    {
      "cell_type": "markdown",
      "metadata": {},
      "source": [
        "We can use something called a variable to store information so that it can be used later.\n",
        "\n",
        "A variable should have a name that tells you what information it contains. We can then assign information to that variable using the '=' operator."
      ]
    },
    {
      "cell_type": "code",
      "execution_count": 31,
      "metadata": {},
      "outputs": [
        {
          "name": "stdout",
          "output_type": "stream",
          "text": [
            "James\n"
          ]
        }
      ],
      "source": [
        "name = \"James\"\n",
        "print(name)"
      ]
    },
    {
      "cell_type": "markdown",
      "metadata": {},
      "source": [
        "We can use the '+' operator to combine strings, allowing us to output text that contains a variable.\n",
        "\n",
        "Here, the variable 'name' has been assigned to \"James\", but feel free to change it to your name and try it out."
      ]
    },
    {
      "cell_type": "code",
      "execution_count": 2,
      "metadata": {
        "trusted": true
      },
      "outputs": [
        {
          "name": "stdout",
          "output_type": "stream",
          "text": [
            "Hello James\n"
          ]
        }
      ],
      "source": [
        "name = \"James\"\n",
        "print(\"Hello \" + name)"
      ]
    },
    {
      "cell_type": "markdown",
      "metadata": {},
      "source": [
        "We can ask the user for a variable using the input() function.\n",
        "\n",
        "When the code cell is run, this function will create a box containing the text inside the brackets, and a space to allow the user to input their own text. In this example, we ask the user \"What is your name?\". \n",
        "\n",
        "To submit the text, press the 'Enter' button."
      ]
    },
    {
      "cell_type": "code",
      "execution_count": 34,
      "metadata": {},
      "outputs": [
        {
          "name": "stdout",
          "output_type": "stream",
          "text": [
            "Hello James\n"
          ]
        }
      ],
      "source": [
        "name = input(\"What is your name?\")\n",
        "print(\"Hello \" + name)"
      ]
    },
    {
      "cell_type": "markdown",
      "metadata": {},
      "source": [
        "## Task 1: Write a code cell that asks the user for their age and then outputs it."
      ]
    },
    {
      "cell_type": "code",
      "execution_count": null,
      "metadata": {},
      "outputs": [],
      "source": []
    },
    {
      "cell_type": "markdown",
      "metadata": {},
      "source": [
        "***\n",
        "# Part 2: Integers and floats\n",
        "The next data type to be discussed is integers. These are whole numbers like 1, -31, or 219832.\n",
        "\n",
        "We can also output integers the same way we do with strings"
      ]
    },
    {
      "cell_type": "code",
      "execution_count": 9,
      "metadata": {},
      "outputs": [
        {
          "name": "stdout",
          "output_type": "stream",
          "text": [
            "5\n"
          ]
        }
      ],
      "source": [
        "print(5)"
      ]
    },
    {
      "cell_type": "markdown",
      "metadata": {},
      "source": [
        "We can assign an integer to a variable, and output it that way."
      ]
    },
    {
      "cell_type": "code",
      "execution_count": 10,
      "metadata": {},
      "outputs": [
        {
          "name": "stdout",
          "output_type": "stream",
          "text": [
            "20\n"
          ]
        }
      ],
      "source": [
        "number = 20\n",
        "print(number)"
      ]
    },
    {
      "cell_type": "markdown",
      "metadata": {},
      "source": [
        "We can use the '+' operator to add two integers. This can be done in our print() function, or when we create a variable."
      ]
    },
    {
      "cell_type": "code",
      "execution_count": 11,
      "metadata": {},
      "outputs": [
        {
          "name": "stdout",
          "output_type": "stream",
          "text": [
            "15\n",
            "200\n"
          ]
        }
      ],
      "source": [
        "print(5 + 10)\n",
        "\n",
        "number = 100 + 100\n",
        "print(number)"
      ]
    },
    {
      "cell_type": "markdown",
      "metadata": {},
      "source": [
        "We also have the '-' operator that is used to subtract numbers. Remember, an integer can also be negative."
      ]
    },
    {
      "cell_type": "code",
      "execution_count": 13,
      "metadata": {},
      "outputs": [
        {
          "name": "stdout",
          "output_type": "stream",
          "text": [
            "5\n",
            "-95\n"
          ]
        }
      ],
      "source": [
        "print(10 - 5)\n",
        "\n",
        "number = 5\n",
        "print(number - 100)"
      ]
    },
    {
      "cell_type": "markdown",
      "metadata": {},
      "source": [
        "To multiply two integers, we can use the '*' operation.\n",
        "\n",
        "To divide two integers, we can use the '/ ' operation."
      ]
    },
    {
      "cell_type": "code",
      "execution_count": 15,
      "metadata": {},
      "outputs": [
        {
          "name": "stdout",
          "output_type": "stream",
          "text": [
            "100\n",
            "20.0\n"
          ]
        }
      ],
      "source": [
        "print(10 * 10)\n",
        "\n",
        "var = 100\n",
        "print(var / 5)"
      ]
    },
    {
      "cell_type": "markdown",
      "metadata": {},
      "source": [
        "Here we have found another data type, the floating point number, or float for short.\n",
        "\n",
        "The float is a number with something after the decimal point.  \n",
        "\n",
        "We can perform addition, subtraction, multiplication, and division on both floats and integers."
      ]
    },
    {
      "cell_type": "code",
      "execution_count": 17,
      "metadata": {},
      "outputs": [
        {
          "name": "stdout",
          "output_type": "stream",
          "text": [
            "30.5\n",
            "3.33\n"
          ]
        }
      ],
      "source": [
        "print(20 + 10.5)\n",
        "\n",
        "var = 1.11 * 3\n",
        "print(var)"
      ]
    },
    {
      "cell_type": "markdown",
      "metadata": {},
      "source": [
        "When writing complex equations, the computer may not know what we want it to do. \n",
        "\n",
        "For example, if we want to add two numbers together, and then multiply that by another number, we have to tell the computer to add first, and then multiply. \n",
        "\n",
        "We can use the ( ) brackets to tell the computer what to do first. \n",
        "\n",
        "Look at the code cell below to see the different in the two print() functions."
      ]
    },
    {
      "cell_type": "code",
      "execution_count": 35,
      "metadata": {},
      "outputs": [
        {
          "name": "stdout",
          "output_type": "stream",
          "text": [
            "30\n",
            "50\n"
          ]
        }
      ],
      "source": [
        "print(5 + 5 * 5)\n",
        "\n",
        "print((5 + 5) * 5)"
      ]
    },
    {
      "cell_type": "markdown",
      "metadata": {},
      "source": [
        "We can see that in the first print() function, the computer will first do 5 multiplied by 5, and then add 5, which gives the result of 30.\n",
        "\n",
        "In the second print() function, the computer knows that whatever is in the brackets comes first in our equation, so it will add 5 and 5 to give 10, and then multiply 10 by 5 to give 50."
      ]
    },
    {
      "cell_type": "markdown",
      "metadata": {},
      "source": [
        "## Task 2: Write a code cell that contains four variables, and assign each of them an integer or float. Add variables 1 and 2 together, multiply by variable 3, and divide by variable 4. Perform this inside a print() function so that you can see the result."
      ]
    },
    {
      "cell_type": "code",
      "execution_count": null,
      "metadata": {},
      "outputs": [],
      "source": []
    },
    {
      "cell_type": "markdown",
      "metadata": {},
      "source": [
        "***\n",
        "# Part 3: Conditions\n",
        "\n",
        "We can write conditions for our code, known as if statements. This helps us control what our code is doing, as we can check if a variable meets a condition, and choose what to do after.\n",
        "\n",
        "We can see that the line after the if statement is not alligned with the rest of the code, this is called an indent.\n",
        "\n",
        "We use indented lines to tell the computer what to do if the condition is met.\n",
        "\n",
        "Try it out on the code cell below, change the value of 'number' and see what happens when the cell is run."
      ]
    },
    {
      "cell_type": "code",
      "execution_count": 39,
      "metadata": {},
      "outputs": [
        {
          "name": "stdout",
          "output_type": "stream",
          "text": [
            "The number is 10\n"
          ]
        }
      ],
      "source": [
        "number = 10\n",
        "\n",
        "if number == 10:\n",
        "  print(\"The number is 10\")"
      ]
    },
    {
      "cell_type": "markdown",
      "metadata": {},
      "source": [
        "In the example above, we see that if the condition is not met, nothing will happen.\n",
        "\n",
        "We can use an else statement to do something if the condition is not met."
      ]
    },
    {
      "cell_type": "code",
      "execution_count": 41,
      "metadata": {},
      "outputs": [
        {
          "name": "stdout",
          "output_type": "stream",
          "text": [
            "The number is not 10\n"
          ]
        }
      ],
      "source": [
        "number = 100\n",
        "\n",
        "if number == 10:\n",
        "  print(\"The number is 10\")\n",
        "else:\n",
        "  print(\"The number is not 10\")"
      ]
    },
    {
      "cell_type": "markdown",
      "metadata": {},
      "source": [
        "We can check multiple conditions in an if statement using an else if statement.\n",
        "\n",
        "This is shortened to elif."
      ]
    },
    {
      "cell_type": "code",
      "execution_count": 42,
      "metadata": {},
      "outputs": [
        {
          "name": "stdout",
          "output_type": "stream",
          "text": [
            "The number is 30\n"
          ]
        }
      ],
      "source": [
        "number = 30\n",
        "\n",
        "if number == 10:\n",
        "  print(\"The number is 10\")\n",
        "elif number == 20:\n",
        "  print(\"The number is 20\")\n",
        "elif number == 30:\n",
        "  print(\"The number is 30\")\n",
        "else:\n",
        "  print(\"The number is not 10, 20, or 30\")"
      ]
    },
    {
      "cell_type": "markdown",
      "metadata": {},
      "source": [
        "Instead of asking if our number is equal to another number, we can ask if our number is less than a number.\n",
        "\n",
        "To do this we use the '<' operator."
      ]
    },
    {
      "cell_type": "code",
      "execution_count": 45,
      "metadata": {},
      "outputs": [
        {
          "name": "stdout",
          "output_type": "stream",
          "text": [
            "Number is less than 100\n"
          ]
        }
      ],
      "source": [
        "number = 10\n",
        "\n",
        "if number < 100:\n",
        "  print(\"Number is less than 100\")"
      ]
    },
    {
      "cell_type": "markdown",
      "metadata": {},
      "source": [
        "We can also use the '>' operator to ask if our number is greater then a number"
      ]
    },
    {
      "cell_type": "code",
      "execution_count": 46,
      "metadata": {},
      "outputs": [
        {
          "name": "stdout",
          "output_type": "stream",
          "text": [
            "Number is greater than 5\n"
          ]
        }
      ],
      "source": [
        "number = 10\n",
        "\n",
        "if number > 5:\n",
        "  print(\"Number is greater than 5\")"
      ]
    },
    {
      "cell_type": "markdown",
      "metadata": {},
      "source": [
        "We can combine the '<' and '>' operators to check if our number is in between two numbers"
      ]
    },
    {
      "cell_type": "code",
      "execution_count": 47,
      "metadata": {},
      "outputs": [
        {
          "name": "stdout",
          "output_type": "stream",
          "text": [
            "Number is between 5 and 100\n"
          ]
        }
      ],
      "source": [
        "number = 10\n",
        "\n",
        "if 5 < number < 100:\n",
        "  print(\"Number is between 5 and 100\")"
      ]
    },
    {
      "cell_type": "markdown",
      "metadata": {},
      "source": [
        "## Task 3: Write a code cell that checks if a number is less than 10, between 20 and 50, or above 100, and tells you if the number is outside of these ranges."
      ]
    },
    {
      "cell_type": "code",
      "execution_count": null,
      "metadata": {},
      "outputs": [],
      "source": []
    },
    {
      "cell_type": "markdown",
      "metadata": {},
      "source": [
        "***\n",
        "# Part 4: Loops and lists\n",
        "A list is used to store multiple items in a single variable.\n",
        "\n",
        "A list can contain multiple data types, including another list.\n",
        "\n",
        "A list is created using square brackets [ ]."
      ]
    },
    {
      "cell_type": "code",
      "execution_count": 3,
      "metadata": {},
      "outputs": [
        {
          "name": "stdout",
          "output_type": "stream",
          "text": [
            "['Alice', 800, 'Charlie', [1, 2, 3]]\n"
          ]
        }
      ],
      "source": [
        "list = [\"Alice\", 800, \"Charlie\", [1, 2, 3]]\n",
        "\n",
        "print(list)"
      ]
    },
    {
      "cell_type": "markdown",
      "metadata": {},
      "source": [
        "We can check the length of a list using the len() function."
      ]
    },
    {
      "cell_type": "code",
      "execution_count": 33,
      "metadata": {},
      "outputs": [
        {
          "name": "stdout",
          "output_type": "stream",
          "text": [
            "6\n"
          ]
        }
      ],
      "source": [
        "list = [1, 2, 34, 545, 3121, 6543]\n",
        "\n",
        "length = len(list)\n",
        "\n",
        "print(length)"
      ]
    },
    {
      "cell_type": "markdown",
      "metadata": {},
      "source": [
        "If we want to access a specific value in a list, we must use indexing. This is done using the square brackets [ ].\n",
        "\n",
        "When indexing, the first value is the list is given the index 0."
      ]
    },
    {
      "cell_type": "code",
      "execution_count": 5,
      "metadata": {},
      "outputs": [
        {
          "name": "stdout",
          "output_type": "stream",
          "text": [
            "Alice\n",
            "Bob\n",
            "Charlie\n"
          ]
        }
      ],
      "source": [
        "names = [\"Alice\", \"Bob\", \"Charlie\"]\n",
        "\n",
        "print(names[0])\n",
        "print(names[1])\n",
        "print(names[2])"
      ]
    },
    {
      "cell_type": "markdown",
      "metadata": {},
      "source": [
        "We can use for loops to repeat lines of code until a certain condition is met.\n",
        "\n",
        "Similar to if statements from before, we must use indented lines to tell the computer what to do.\n",
        "\n",
        "Loops can be used on lists or strings."
      ]
    },
    {
      "cell_type": "code",
      "execution_count": 6,
      "metadata": {},
      "outputs": [
        {
          "name": "stdout",
          "output_type": "stream",
          "text": [
            "b\n",
            "a\n",
            "n\n",
            "a\n",
            "n\n",
            "a\n",
            "apple\n",
            "banana\n",
            "cherry\n"
          ]
        }
      ],
      "source": [
        "for letter in \"banana\":\n",
        "  print(letter)\n",
        "\n",
        "fruits = [\"apple\", \"banana\", \"cherry\"]\n",
        "for fruit in fruits:\n",
        "  print(fruit)"
      ]
    },
    {
      "cell_type": "markdown",
      "metadata": {},
      "source": [
        "We can also use the range() function to perform the same line of code a given number of times.\n",
        "\n",
        "Computers will start counting at 0, instead of 1 like we would normally do.\n",
        "\n",
        "This can be seen in the example below, where it starts counting at 0, will loop 6 times, but will not output the number 6."
      ]
    },
    {
      "cell_type": "code",
      "execution_count": 7,
      "metadata": {},
      "outputs": [
        {
          "name": "stdout",
          "output_type": "stream",
          "text": [
            "0\n",
            "1\n",
            "2\n",
            "3\n",
            "4\n",
            "5\n"
          ]
        }
      ],
      "source": [
        "for number in range(6):\n",
        "  print(number)"
      ]
    },
    {
      "cell_type": "markdown",
      "metadata": {},
      "source": [
        "The range() function will automatically start at 0 and increment by 1 each time, but we can change the starting value, end value, and increment step.\n",
        "\n",
        "The first number in the range() function will be the starting number, the second number is where the computer will stop counting, and the third number will be the increment step.\n",
        "\n",
        "In the example below, we start at 2, increment by 5 with each step, and stop when the count reaches 20."
      ]
    },
    {
      "cell_type": "code",
      "execution_count": 58,
      "metadata": {},
      "outputs": [
        {
          "name": "stdout",
          "output_type": "stream",
          "text": [
            "2\n",
            "7\n",
            "12\n",
            "17\n"
          ]
        }
      ],
      "source": [
        "for number in range(2, 20, 5):\n",
        "  print(number)"
      ]
    },
    {
      "cell_type": "markdown",
      "metadata": {},
      "source": [
        "We can also use the range() function to create a list."
      ]
    },
    {
      "cell_type": "code",
      "execution_count": 16,
      "metadata": {},
      "outputs": [
        {
          "name": "stdout",
          "output_type": "stream",
          "text": [
            "0\n",
            "2\n",
            "4\n",
            "6\n",
            "8\n"
          ]
        }
      ],
      "source": [
        "list = range(0, 10, 2)\n",
        "for number in list:\n",
        "  print(number)"
      ]
    },
    {
      "cell_type": "markdown",
      "metadata": {},
      "source": [
        "We can also add to existing lists using the .append() function.\n",
        "\n",
        "This will add an item to the end of the list.\n",
        "\n",
        "Here, we use a for loop to add multiple items to the list."
      ]
    },
    {
      "cell_type": "code",
      "execution_count": 14,
      "metadata": {},
      "outputs": [
        {
          "name": "stdout",
          "output_type": "stream",
          "text": [
            "[100, 200, 300, 400, 500, 600, 700, 800, 900, 1000]\n"
          ]
        }
      ],
      "source": [
        "list = [100, 200, 300]\n",
        "\n",
        "for number in range(4, 11):\n",
        "  list.append(number * 100)\n",
        "\n",
        "print(list)"
      ]
    },
    {
      "cell_type": "markdown",
      "metadata": {},
      "source": [
        "Finally, we can also create a loop using the while function.\n",
        "\n",
        "This will repeat code as long as a condition is true.\n",
        "\n",
        "In the example below, we will add numbers to a list until we reach 10.\n",
        "\n",
        "We can use a variable to keep track of how many numbers we have added to the list, but we must remember to increase the counter by 1 with each loop."
      ]
    },
    {
      "cell_type": "code",
      "execution_count": 19,
      "metadata": {},
      "outputs": [
        {
          "name": "stdout",
          "output_type": "stream",
          "text": [
            "[0, 1, 2, 3, 4, 5, 6, 7, 8, 9, 10]\n"
          ]
        }
      ],
      "source": [
        "list = []\n",
        "\n",
        "counter = 0\n",
        "\n",
        "while counter < 11:\n",
        "  list.append(counter)\n",
        "  counter = counter + 1\n",
        "\n",
        "print(list)"
      ]
    },
    {
      "cell_type": "markdown",
      "metadata": {},
      "source": [
        "## Task 4: Create two lists that contain only even numbers up to 100. For one list, use the range() function, and for the other list, use a while loop. You will then add up all of the numbers in the lists using a for loop. For one list, make use of the len() function and string indexing using [ ]."
      ]
    },
    {
      "cell_type": "code",
      "execution_count": null,
      "metadata": {},
      "outputs": [],
      "source": []
    }
  ],
  "metadata": {
    "kernelspec": {
      "display_name": "base",
      "language": "python",
      "name": "python3"
    },
    "language_info": {
      "codemirror_mode": {
        "name": "ipython",
        "version": 3
      },
      "file_extension": ".py",
      "mimetype": "text/x-python",
      "name": "python",
      "nbconvert_exporter": "python",
      "pygments_lexer": "ipython3",
      "version": "3.12.3"
    }
  },
  "nbformat": 4,
  "nbformat_minor": 4
}
