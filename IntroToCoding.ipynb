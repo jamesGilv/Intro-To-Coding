{
  "metadata": {
    "kernelspec": {
      "name": "python",
      "display_name": "Python (Pyodide)",
      "language": "python"
    },
    "language_info": {
      "codemirror_mode": {
        "name": "python",
        "version": 3
      },
      "file_extension": ".py",
      "mimetype": "text/x-python",
      "name": "python",
      "nbconvert_exporter": "python",
      "pygments_lexer": "ipython3",
      "version": "3.8"
    }
  },
  "nbformat_minor": 4,
  "nbformat": 4,
  "cells": [
    {
      "cell_type": "code",
      "source": "# INTRODUCTION TO CODING\n# To start, we will learn about the basics of coding.\n# This will cover topics such as inputs and outputs, variables, basic operations, data types, conditions, loops, and lists.",
      "metadata": {
        "trusted": true
      },
      "outputs": [],
      "execution_count": 19
    },
    {
      "cell_type": "code",
      "source": "# PART 1: OUTPUTS, INPUTS, AND STRINGS\n\n# We can output text with the print() function. \n\n# Everything inside the \" \" is called a string.\n\n# A string is a data type that is a sequence of characters, this includes letters, numbers, and punctuation.\n\n# Strings can also be made using ' '. ",
      "metadata": {
        "trusted": true
      },
      "outputs": [],
      "execution_count": 20
    },
    {
      "cell_type": "code",
      "source": "print(\"Hello World\")\n\nprint('Hi World')",
      "metadata": {
        "trusted": true
      },
      "outputs": [
        {
          "name": "stdout",
          "text": "Hello World\nHi World\n",
          "output_type": "stream"
        }
      ],
      "execution_count": 21
    },
    {
      "cell_type": "code",
      "source": "# We can use something called a variable to store information so that it can be used later.\n\n# A variable should have a name that tells you what information it contains. We can then assign information to that variable using the '=' operator.",
      "metadata": {
        "trusted": true
      },
      "outputs": [],
      "execution_count": 22
    },
    {
      "cell_type": "code",
      "source": "name = \"James\"\nprint(name)",
      "metadata": {
        "trusted": true
      },
      "outputs": [
        {
          "name": "stdout",
          "text": "James\n",
          "output_type": "stream"
        }
      ],
      "execution_count": 23
    },
    {
      "cell_type": "code",
      "source": "# We can use the '+' operator to combine strings, allowing us to output text that contains a variable.\n\n# Here, the variable 'name' has been assigned to \"James\", but feel free to change it to your name and try it out.",
      "metadata": {
        "trusted": true
      },
      "outputs": [],
      "execution_count": 24
    },
    {
      "cell_type": "code",
      "source": "name = \"James\"\nprint(\"Hello \" + name)",
      "metadata": {
        "trusted": true
      },
      "outputs": [
        {
          "name": "stdout",
          "text": "Hello James\n",
          "output_type": "stream"
        }
      ],
      "execution_count": 25
    },
    {
      "cell_type": "code",
      "source": "# We can ask the user for a variable using the await input() function.\n\n# When the code cell is run, this function will create a box containing the text inside the brackets.\n\n# There is also a space to allow the user to input their own text. \n\n# In this example, we ask the user \"What is your name?\". \n\n# To submit the text, press the 'Enter' button.",
      "metadata": {
        "trusted": true
      },
      "outputs": [],
      "execution_count": 26
    },
    {
      "cell_type": "code",
      "source": "name = await input(\"What is your name?\")",
      "metadata": {
        "trusted": true
      },
      "outputs": [
        {
          "output_type": "stream",
          "name": "stdin",
          "text": "What is your name? James\n"
        }
      ],
      "execution_count": 27
    },
    {
      "cell_type": "code",
      "source": "print(\"Hello \" + name)",
      "metadata": {
        "trusted": true
      },
      "outputs": [
        {
          "name": "stdout",
          "text": "Hello James\n",
          "output_type": "stream"
        }
      ],
      "execution_count": 28
    },
    {
      "cell_type": "code",
      "source": "# Task 1: Write some code that asks the user for their age and then outputs it.",
      "metadata": {
        "trusted": true
      },
      "outputs": [],
      "execution_count": 29
    },
    {
      "cell_type": "code",
      "source": "",
      "metadata": {
        "trusted": true
      },
      "outputs": [],
      "execution_count": null
    },
    {
      "cell_type": "code",
      "source": "# PART 2: INTEGERS AND FLOATS\n\n# The next data type to be discussed is integers. These are whole numbers like 1, -31, or 219832.\n\n# We can also output integers the same way we do with strings",
      "metadata": {
        "trusted": true
      },
      "outputs": [],
      "execution_count": 30
    },
    {
      "cell_type": "code",
      "source": "print(5)",
      "metadata": {
        "trusted": true
      },
      "outputs": [
        {
          "name": "stdout",
          "text": "5\n",
          "output_type": "stream"
        }
      ],
      "execution_count": 31
    },
    {
      "cell_type": "code",
      "source": "# We can assign an integer to a variable, and output it that way.",
      "metadata": {
        "trusted": true
      },
      "outputs": [],
      "execution_count": 32
    },
    {
      "cell_type": "code",
      "source": "number = 20\nprint(number)",
      "metadata": {
        "trusted": true
      },
      "outputs": [
        {
          "name": "stdout",
          "text": "20\n",
          "output_type": "stream"
        }
      ],
      "execution_count": 33
    },
    {
      "cell_type": "code",
      "source": "# We can use the '+' operator to add two integers. This can be done in our print() function, or when we create a variable.",
      "metadata": {
        "trusted": true
      },
      "outputs": [],
      "execution_count": 34
    },
    {
      "cell_type": "code",
      "source": "print(5 + 10)\n\nnumber = 100 + 100\nprint(number)",
      "metadata": {
        "trusted": true
      },
      "outputs": [
        {
          "name": "stdout",
          "text": "15\n200\n",
          "output_type": "stream"
        }
      ],
      "execution_count": 35
    },
    {
      "cell_type": "code",
      "source": "# We also have the '-' operator that is used to subtract numbers. Remember, an integer can also be negative.",
      "metadata": {
        "trusted": true
      },
      "outputs": [],
      "execution_count": 36
    },
    {
      "cell_type": "code",
      "source": "print(10 - 5)\n\nnumber = 5\nprint(number - 100)",
      "metadata": {
        "trusted": true
      },
      "outputs": [
        {
          "name": "stdout",
          "text": "5\n-95\n",
          "output_type": "stream"
        }
      ],
      "execution_count": 37
    },
    {
      "cell_type": "code",
      "source": "# To multiply two integers, we can use the '*' operation.\n\n# To divide two integers, we can use the '/ ' operation.",
      "metadata": {
        "trusted": true
      },
      "outputs": [],
      "execution_count": 38
    },
    {
      "cell_type": "code",
      "source": "print(10 * 10)\n\nvar = 100\nprint(var / 5)",
      "metadata": {
        "trusted": true
      },
      "outputs": [
        {
          "name": "stdout",
          "text": "100\n20.0\n",
          "output_type": "stream"
        }
      ],
      "execution_count": 39
    },
    {
      "cell_type": "code",
      "source": "# We can see that the second output contains a decimal point, but none of our other integers did, why does it behave like this?\n\n# Here we have found another data type, the floating point number, or float for short.\n\n# The float is a number with something after the decimal point.  \n\n# We can perform addition, subtraction, multiplication, and division on both floats and integers.",
      "metadata": {
        "trusted": true
      },
      "outputs": [],
      "execution_count": 40
    },
    {
      "cell_type": "code",
      "source": "print(20 + 10.5)\n\nvar = 1.11 * 3\nprint(var)",
      "metadata": {
        "trusted": true
      },
      "outputs": [
        {
          "name": "stdout",
          "text": "30.5\n3.33\n",
          "output_type": "stream"
        }
      ],
      "execution_count": 41
    },
    {
      "cell_type": "code",
      "source": "# When writing complex equations, the computer may not know what we want it to do. \n\n# For example, if we want to add two numbers together, and then multiply that by another number, we have to tell the computer to add first, and then multiply. \n\n# We can use the ( ) brackets to tell the computer what to do first. \n\n# Look at the code cell below to see the different in the two print() functions.",
      "metadata": {
        "trusted": true
      },
      "outputs": [],
      "execution_count": 42
    },
    {
      "cell_type": "code",
      "source": "print(5 + 5 * 5)\n\nprint((5 + 5) * 5)",
      "metadata": {
        "trusted": true
      },
      "outputs": [
        {
          "name": "stdout",
          "text": "30\n50\n",
          "output_type": "stream"
        }
      ],
      "execution_count": 43
    },
    {
      "cell_type": "code",
      "source": "# We can see that in the first print() function, the computer will first do 5 multiplied by 5, and then add 5, which gives the result of 30.\n\n# In the second print() function, the computer knows that whatever is in the brackets comes first in our equation.\n\n# It will add 5 and 5 to give 10, and then multiply 10 by 5 to give 50.",
      "metadata": {
        "trusted": true
      },
      "outputs": [],
      "execution_count": 44
    },
    {
      "cell_type": "code",
      "source": "# Task 2: Write a code cell that contains four variables, and assign each of them an integer or float. \n# Add variables 1 and 2 together, multiply by variable 3, and divide by variable 4. \n# Perform this inside a print() function so that you can see the result.",
      "metadata": {
        "trusted": true
      },
      "outputs": [],
      "execution_count": 45
    },
    {
      "cell_type": "code",
      "source": "",
      "metadata": {
        "trusted": true
      },
      "outputs": [],
      "execution_count": null
    },
    {
      "cell_type": "code",
      "source": "# PART 3: CONDITIONS\n\n# We can write conditions for our code, known as if statements. \n\n# This helps us control what our code is doing, as we can check if a variable meets a condition, and choose what to do after.\n\n# We can see that the line after the if statement is not alligned with the rest of the code, this is called an indent.\n\n# We use indented lines to tell the computer what to do if the condition is met.\n\n# Try it out on the code cell below, change the value of 'number' and see what happens when the cell is run.",
      "metadata": {
        "trusted": true
      },
      "outputs": [],
      "execution_count": 46
    },
    {
      "cell_type": "code",
      "source": "number = 10\n\nif number == 10:\n  print(\"The number is 10\")",
      "metadata": {
        "trusted": true
      },
      "outputs": [
        {
          "name": "stdout",
          "text": "The number is 10\n",
          "output_type": "stream"
        }
      ],
      "execution_count": 47
    },
    {
      "cell_type": "code",
      "source": "# In the example above, we see that if the condition is not met, nothing will happen.\n\n# We can use an else statement to do something if the condition is not met.",
      "metadata": {
        "trusted": true
      },
      "outputs": [],
      "execution_count": 48
    },
    {
      "cell_type": "code",
      "source": "number = 100\n\nif number == 10:\n  print(\"The number is 10\")\nelse:\n  print(\"The number is not 10\")",
      "metadata": {
        "trusted": true
      },
      "outputs": [
        {
          "name": "stdout",
          "text": "The number is not 10\n",
          "output_type": "stream"
        }
      ],
      "execution_count": 49
    },
    {
      "cell_type": "code",
      "source": "# We can check multiple conditions in an if statement using an else if statement.\n\n# This is shortened to elif.",
      "metadata": {
        "trusted": true
      },
      "outputs": [],
      "execution_count": 50
    },
    {
      "cell_type": "code",
      "source": "number = 30\n\nif number == 10:\n  print(\"The number is 10\")\nelif number == 20:\n  print(\"The number is 20\")\nelif number == 30:\n  print(\"The number is 30\")\nelse:\n  print(\"The number is not 10, 20, or 30\")",
      "metadata": {
        "trusted": true
      },
      "outputs": [
        {
          "name": "stdout",
          "text": "The number is 30\n",
          "output_type": "stream"
        }
      ],
      "execution_count": 51
    },
    {
      "cell_type": "code",
      "source": "# Instead of asking if our number is equal to another number, we can ask if our number is less than a number.\n\n# To do this we use the '<' operator.",
      "metadata": {
        "trusted": true
      },
      "outputs": [],
      "execution_count": 52
    },
    {
      "cell_type": "code",
      "source": "number = 10\n\nif number < 100:\n  print(\"Number is less than 100\")",
      "metadata": {
        "trusted": true
      },
      "outputs": [
        {
          "name": "stdout",
          "text": "Number is less than 100\n",
          "output_type": "stream"
        }
      ],
      "execution_count": 53
    },
    {
      "cell_type": "code",
      "source": "# We can also use the '>' operator to ask if our number is greater then a number",
      "metadata": {
        "trusted": true
      },
      "outputs": [],
      "execution_count": 54
    },
    {
      "cell_type": "code",
      "source": "number = 10\n\nif number > 5:\n  print(\"Number is greater than 5\")",
      "metadata": {
        "trusted": true
      },
      "outputs": [
        {
          "name": "stdout",
          "text": "Number is greater than 5\n",
          "output_type": "stream"
        }
      ],
      "execution_count": 55
    },
    {
      "cell_type": "code",
      "source": "# We can combine the '<' and '>' operators to check if our number is in between two numbers",
      "metadata": {
        "trusted": true
      },
      "outputs": [],
      "execution_count": 56
    },
    {
      "cell_type": "code",
      "source": "number = 10\n\nif 5 < number < 100:\n  print(\"Number is between 5 and 100\")",
      "metadata": {
        "trusted": true
      },
      "outputs": [
        {
          "name": "stdout",
          "text": "Number is between 5 and 100\n",
          "output_type": "stream"
        }
      ],
      "execution_count": 57
    },
    {
      "cell_type": "code",
      "source": "# Task 3: Write a code cell that tells you if a number is less than 10, between 20 and 50, or above 100 \n# It should also tell you if the number is outside of these ranges.",
      "metadata": {
        "trusted": true
      },
      "outputs": [],
      "execution_count": 58
    },
    {
      "cell_type": "code",
      "source": "",
      "metadata": {
        "trusted": true
      },
      "outputs": [],
      "execution_count": null
    },
    {
      "cell_type": "code",
      "source": "# PART 4: LOOPS AND LISTS\n\n# A list is used to store multiple items in a single variable.\n\n# A list can contain multiple data types, including another list.\n\n# A list is created using square brackets [ ].",
      "metadata": {
        "trusted": true
      },
      "outputs": [],
      "execution_count": 59
    },
    {
      "cell_type": "code",
      "source": "list = [\"Alice\", 800, \"Charlie\", [1, 2, 3]]\n\nprint(list)",
      "metadata": {
        "trusted": true
      },
      "outputs": [
        {
          "name": "stdout",
          "text": "['Alice', 800, 'Charlie', [1, 2, 3]]\n",
          "output_type": "stream"
        }
      ],
      "execution_count": 60
    },
    {
      "cell_type": "code",
      "source": "# We can check the length of a list using the len() function.",
      "metadata": {
        "trusted": true
      },
      "outputs": [],
      "execution_count": 61
    },
    {
      "cell_type": "code",
      "source": "list = [1, 2, 34, 545, 3121, 6543]\n\nlength = len(list)\n\nprint(length)",
      "metadata": {
        "trusted": true
      },
      "outputs": [
        {
          "name": "stdout",
          "text": "6\n",
          "output_type": "stream"
        }
      ],
      "execution_count": 62
    },
    {
      "cell_type": "code",
      "source": "# If we want to access a specific value in a list, we must use list indexing.\n\n# An index can be thought of as an address, where each item in a list has its own index\n\n# We can get an item by using square brackets after the list, such as list[3].\n\n# When indexing, the first value is the list is given the index 0.",
      "metadata": {
        "trusted": true
      },
      "outputs": [],
      "execution_count": 73
    },
    {
      "cell_type": "code",
      "source": "names = [\"Alice\", \"Bob\", \"Charlie\"]\n\nprint(names[0])\nprint(names[1])\nprint(names[2])",
      "metadata": {
        "trusted": true
      },
      "outputs": [
        {
          "name": "stdout",
          "text": "Alice\nBob\nCharlie\n",
          "output_type": "stream"
        }
      ],
      "execution_count": 74
    },
    {
      "cell_type": "code",
      "source": "for letter in \"apple\":\n    print(letter)",
      "metadata": {
        "trusted": true
      },
      "outputs": [
        {
          "name": "stdout",
          "text": "a\np\np\nl\ne\n",
          "output_type": "stream"
        }
      ],
      "execution_count": 75
    },
    {
      "cell_type": "code",
      "source": "count = 0\nwhile count != 5:\n    print(count)\n    count = count + 1",
      "metadata": {
        "trusted": true
      },
      "outputs": [
        {
          "name": "stdout",
          "text": "0\n1\n2\n3\n4\n",
          "output_type": "stream"
        }
      ],
      "execution_count": 76
    },
    {
      "cell_type": "code",
      "source": "# We can use for loops to repeat lines of code until a certain condition is met.\n\n# Similar to if statements from before, we must use indented lines to tell the computer what to do.\n\n# Loops can be used on lists or strings.",
      "metadata": {
        "trusted": true
      },
      "outputs": [],
      "execution_count": 77
    },
    {
      "cell_type": "code",
      "source": "for letter in \"banana\":\n  print(letter)\n\nfruits = [\"apple\", \"banana\", \"cherry\"]\nfor fruit in fruits:\n  print(fruit)",
      "metadata": {
        "trusted": true
      },
      "outputs": [
        {
          "name": "stdout",
          "text": "b\na\nn\na\nn\na\napple\nbanana\ncherry\n",
          "output_type": "stream"
        }
      ],
      "execution_count": 78
    },
    {
      "cell_type": "code",
      "source": "# We can also use the range() function to perform the same line of code a given number of times.\n\n# Computers will start counting at 0, instead of 1 like we would normally do.\n\n# This can be seen in the example below, where it starts counting at 0, will loop 6 times, but will not output the number 6.",
      "metadata": {
        "trusted": true
      },
      "outputs": [],
      "execution_count": 79
    },
    {
      "cell_type": "code",
      "source": "for number in range(6):\n  print(number)",
      "metadata": {
        "trusted": true
      },
      "outputs": [
        {
          "name": "stdout",
          "text": "0\n1\n2\n3\n4\n5\n",
          "output_type": "stream"
        }
      ],
      "execution_count": 80
    },
    {
      "cell_type": "code",
      "source": "# The range() function will automatically start at 0 and increment by 1 each time, but we can change the starting value, end value, and increment step.\n\n# The first number in the range() function will be the starting number\n\n# The second number is where the computer will stop counting\n\n# The third number will be the increment step.\n\n# In the example below, we start at 2, increment by 5 with each step, and stop when the count reaches 20.",
      "metadata": {
        "trusted": true
      },
      "outputs": [],
      "execution_count": 81
    },
    {
      "cell_type": "code",
      "source": "for number in range(2, 20, 5):\n  print(number)",
      "metadata": {
        "trusted": true
      },
      "outputs": [
        {
          "name": "stdout",
          "text": "2\n7\n12\n17\n",
          "output_type": "stream"
        }
      ],
      "execution_count": 82
    },
    {
      "cell_type": "code",
      "source": "# We can also use the range() function to create a list.",
      "metadata": {
        "trusted": true
      },
      "outputs": [],
      "execution_count": 83
    },
    {
      "cell_type": "code",
      "source": "list = range(0, 10, 2)\nfor number in list:\n  print(number)",
      "metadata": {
        "trusted": true
      },
      "outputs": [
        {
          "name": "stdout",
          "text": "0\n2\n4\n6\n8\n",
          "output_type": "stream"
        }
      ],
      "execution_count": 84
    },
    {
      "cell_type": "code",
      "source": "# We can also add to existing lists using the .append() function.\n\n# This will add an item to the end of the list.\n\n# Here, we use a for loop to add multiple items to the list.",
      "metadata": {
        "trusted": true
      },
      "outputs": [],
      "execution_count": 85
    },
    {
      "cell_type": "code",
      "source": "list = [100, 200, 300]\n\nfor number in range(4, 11):\n  list.append(number * 100)\n\nprint(list)",
      "metadata": {
        "trusted": true
      },
      "outputs": [
        {
          "name": "stdout",
          "text": "[100, 200, 300, 400, 500, 600, 700, 800, 900, 1000]\n",
          "output_type": "stream"
        }
      ],
      "execution_count": 86
    },
    {
      "cell_type": "code",
      "source": "# Finally, we can also create a loop using the while function.\n\n# This will repeat code as long as a condition is true.\n\n# In the example below, we will add numbers to a list until we reach 10.\n\n# We can use a variable to keep track of how many numbers we have added to the list\n\n# We must remember to increase the counter by 1 with each loopotherwise we will keep repeating the same code endlessly.",
      "metadata": {
        "trusted": true
      },
      "outputs": [],
      "execution_count": 87
    },
    {
      "cell_type": "code",
      "source": "list = []\n\ncounter = 0\n\nwhile counter < 11:\n  list.append(counter)\n  counter = counter + 1\n\nprint(list)",
      "metadata": {
        "trusted": true
      },
      "outputs": [
        {
          "name": "stdout",
          "text": "[0, 1, 2, 3, 4, 5, 6, 7, 8, 9, 10]\n",
          "output_type": "stream"
        }
      ],
      "execution_count": 88
    },
    {
      "cell_type": "code",
      "source": "# Task 4: Create two lists that contain only even numbers up to 50. \n# For one list, use the range() function, and for the other list, use a while loop. \n# You will then add up all of the numbers in the lists using a for loop. \n# For one list, make use of the len() function and string indexing using [ ].\n# If done correctly, you should get 650",
      "metadata": {
        "trusted": true
      },
      "outputs": [],
      "execution_count": 92
    },
    {
      "cell_type": "code",
      "source": "",
      "metadata": {
        "trusted": true
      },
      "outputs": [],
      "execution_count": null
    }
  ]
}