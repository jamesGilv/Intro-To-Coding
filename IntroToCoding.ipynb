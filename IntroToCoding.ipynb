{
  "cells": [
    {
      "cell_type": "markdown",
      "metadata": {},
      "source": [
        "# Introduction to coding\n",
        "To start, we will learn about the basics of coding. This will cover topics such as inputs and outputs, variables, lists, basic operations, data types, conditions, and loops\n",
        "***"
      ]
    },
    {
      "cell_type": "markdown",
      "metadata": {},
      "source": [
        "***\n",
        "This file is made up of cells. They can either be code cells for writing and executing code, or markdown cells for writing instructions. \n",
        "\n",
        "This cell teaches you how to interact with cells so that you can complete the introduction, but this cell structure is not used when writing code normally.\n",
        "\n",
        "You can run all cells by pressing the 'Run All' button, or run an individual cell by pressing 'Shift' and 'Enter' at the same time. \n",
        "\n",
        "Code cells are simple to edit, just write in them. \n",
        "\n",
        "To edit markdown cells, you can double click on them and then edit or add to them. Try it on this cell, and then run the markdown cell\n",
        "***"
      ]
    },
    {
      "cell_type": "markdown",
      "metadata": {},
      "source": [
        "We can output text with the print function. \n",
        "\n",
        "Everything inside the \" \" is called a string and is one of many data types.\n",
        "\n",
        "Strings can also be assigned using ' '."
      ]
    },
    {
      "cell_type": "code",
      "execution_count": 6,
      "metadata": {
        "trusted": true
      },
      "outputs": [
        {
          "name": "stdout",
          "output_type": "stream",
          "text": [
            "Hello World\n",
            "Hi World\n"
          ]
        }
      ],
      "source": [
        "print(\"Hello World\")\n",
        "\n",
        "print('Hi World')"
      ]
    },
    {
      "cell_type": "markdown",
      "metadata": {},
      "source": [
        "We can use something called a variable to output our own text. In the print function, we use the '+' operator to combine two strings\n",
        "\n",
        "Here it has been assigned to \"James\", but feel free to change it to your name and try it out"
      ]
    },
    {
      "cell_type": "code",
      "execution_count": 2,
      "metadata": {
        "trusted": true
      },
      "outputs": [
        {
          "name": "stdout",
          "output_type": "stream",
          "text": [
            "Hello James\n"
          ]
        }
      ],
      "source": [
        "var = \"James\"\n",
        "print(\"Hello \" + var)"
      ]
    },
    {
      "cell_type": "markdown",
      "metadata": {},
      "source": [
        "This variable can be assigned using an input, which we ask the user for when we run the program."
      ]
    },
    {
      "cell_type": "code",
      "execution_count": 5,
      "metadata": {},
      "outputs": [
        {
          "name": "stdout",
          "output_type": "stream",
          "text": [
            "Hello James\n"
          ]
        }
      ],
      "source": [
        "var = input(\"What is your name?\")\n",
        "print(\"Hello \" + var)"
      ]
    },
    {
      "cell_type": "markdown",
      "metadata": {},
      "source": [
        "## Task 1: Create a code cell that asks the user for their age and then outputs it."
      ]
    },
    {
      "cell_type": "code",
      "execution_count": 29,
      "metadata": {},
      "outputs": [
        {
          "name": "stdout",
          "output_type": "stream",
          "text": [
            "You are 21 years old\n"
          ]
        }
      ],
      "source": [
        "age = input(\"What is your age?\")\n",
        "print(\"You are \" + age + \" years old\")"
      ]
    },
    {
      "cell_type": "markdown",
      "metadata": {},
      "source": [
        "***\n",
        "The next data type to be discussed is integers. These are whole numbers like 1, -31, or 219832.\n",
        "\n",
        "We can also output integers the same way we do with strings"
      ]
    },
    {
      "cell_type": "code",
      "execution_count": 9,
      "metadata": {},
      "outputs": [
        {
          "name": "stdout",
          "output_type": "stream",
          "text": [
            "5\n"
          ]
        }
      ],
      "source": [
        "print(5)"
      ]
    },
    {
      "cell_type": "markdown",
      "metadata": {},
      "source": [
        "We can assign an integer to a variable, and output it that way."
      ]
    },
    {
      "cell_type": "code",
      "execution_count": 10,
      "metadata": {},
      "outputs": [
        {
          "name": "stdout",
          "output_type": "stream",
          "text": [
            "20\n"
          ]
        }
      ],
      "source": [
        "var = 20\n",
        "print(var)"
      ]
    },
    {
      "cell_type": "markdown",
      "metadata": {},
      "source": [
        "We can use the '+' operation to add two integers. This can be done in our print function, or by adding a number to a variable."
      ]
    },
    {
      "cell_type": "code",
      "execution_count": 11,
      "metadata": {},
      "outputs": [
        {
          "name": "stdout",
          "output_type": "stream",
          "text": [
            "15\n",
            "200\n"
          ]
        }
      ],
      "source": [
        "print(5 + 10)\n",
        "\n",
        "var = 100 + 100\n",
        "print(var)"
      ]
    },
    {
      "cell_type": "markdown",
      "metadata": {},
      "source": [
        "We also have the '-' operator that is used to subtract numbers. Remember, an integer can also be negative."
      ]
    },
    {
      "cell_type": "code",
      "execution_count": 13,
      "metadata": {},
      "outputs": [
        {
          "name": "stdout",
          "output_type": "stream",
          "text": [
            "5\n",
            "-95\n"
          ]
        }
      ],
      "source": [
        "print(10 - 5)\n",
        "\n",
        "var = 5\n",
        "print(var - 100)"
      ]
    },
    {
      "cell_type": "markdown",
      "metadata": {},
      "source": [
        "To multiply two integers, we can use the '*' operation.\n",
        "\n",
        "To divide two integers, we can use the '/ ' operation."
      ]
    },
    {
      "cell_type": "code",
      "execution_count": 15,
      "metadata": {},
      "outputs": [
        {
          "name": "stdout",
          "output_type": "stream",
          "text": [
            "100\n",
            "20.0\n"
          ]
        }
      ],
      "source": [
        "print(10 * 10)\n",
        "\n",
        "var = 100\n",
        "print(var / 5)"
      ]
    },
    {
      "cell_type": "markdown",
      "metadata": {},
      "source": [
        "Here we have found another data type, the floating point number, or float for short.\n",
        "\n",
        "The float is a number with something after the decimal point.  We can perform all our operations on floats and integers."
      ]
    },
    {
      "cell_type": "code",
      "execution_count": 17,
      "metadata": {},
      "outputs": [
        {
          "name": "stdout",
          "output_type": "stream",
          "text": [
            "30.5\n",
            "3.33\n"
          ]
        }
      ],
      "source": [
        "print(20 + 10.5)\n",
        "\n",
        "var = 1.11 * 3\n",
        "print(var)"
      ]
    },
    {
      "cell_type": "markdown",
      "metadata": {},
      "source": [
        "***\n",
        "We can write conditions for our code, known as if statements. This helps us control what our code is doing, as we can check if a variable meets a condition, and choose what to do after.\n",
        "\n",
        "Try it out on the code cell below, change the value of 'var' and see what happens when the cell is run."
      ]
    },
    {
      "cell_type": "code",
      "execution_count": 20,
      "metadata": {},
      "outputs": [
        {
          "name": "stdout",
          "output_type": "stream",
          "text": [
            "The number is 10\n"
          ]
        }
      ],
      "source": [
        "var = 10\n",
        "\n",
        "if var == 10:\n",
        "  print(\"The number is 10\")\n",
        "else:\n",
        "  print(\"The number is not 10\")"
      ]
    },
    {
      "cell_type": "markdown",
      "metadata": {},
      "source": [
        "We can check multiple conditions in an if statement using the else if function, which is written in code as elif."
      ]
    },
    {
      "cell_type": "code",
      "execution_count": 27,
      "metadata": {},
      "outputs": [
        {
          "name": "stdout",
          "output_type": "stream",
          "text": [
            "The number is 10\n"
          ]
        }
      ],
      "source": [
        "var = input(\"Please input a number\")\n",
        "\n",
        "if var == 10:\n",
        "  print(\"The number is 10\")\n",
        "elif var == 20:\n",
        "  print(\"The number is 20\")\n",
        "elif var == 30:\n",
        "  print(\"The number is 30\")\n",
        "else:\n",
        "  print(\"The number is not 10, 20, or 30\")"
      ]
    },
    {
      "cell_type": "markdown",
      "metadata": {},
      "source": [
        "Here we have to know that basic inputs are taken as strings and not recognised in our if statements. There are a few ways to get around this.\n",
        "\n",
        "The first is to check for strings in our if statements. This has been done below."
      ]
    },
    {
      "cell_type": "code",
      "execution_count": null,
      "metadata": {},
      "outputs": [],
      "source": [
        "var = input(\"Please input a number\")\n",
        "\n",
        "if var == '10':\n",
        "  print(\"The number is 10\")\n",
        "elif var == '20':\n",
        "  print(\"The number is 20\")\n",
        "elif var == '30':\n",
        "  print(\"The number is 30\")\n",
        "else:\n",
        "  print(\"The number is not 10, 20, or 30\")"
      ]
    },
    {
      "cell_type": "markdown",
      "metadata": {},
      "source": [
        "The other two ways are to cast the string input to an integer or float. We can cast to an integer or float using the int() or float() functions. When doing this, we have to be careful not to cut off parts of the number, which can be seen below."
      ]
    },
    {
      "cell_type": "code",
      "execution_count": 28,
      "metadata": {},
      "outputs": [
        {
          "name": "stdout",
          "output_type": "stream",
          "text": [
            "10\n"
          ]
        }
      ],
      "source": [
        "var = 10.5\n",
        "print(var)\n",
        "\n",
        "integer = int(var)\n",
        "print(integer)"
      ]
    },
    {
      "cell_type": "code",
      "execution_count": null,
      "metadata": {},
      "outputs": [],
      "source": [
        "var = int(input(\"Please input a number\"))\n",
        "\n",
        "if var == 10:\n",
        "  print(\"The number is 10\")\n",
        "elif var == 20:\n",
        "  print(\"The number is 20\")\n",
        "elif var == 30:\n",
        "  print(\"The number is 30\")\n",
        "else:\n",
        "  print(\"The number is not 10, 20, or 30\")"
      ]
    },
    {
      "cell_type": "markdown",
      "metadata": {},
      "source": [
        "## Task 2: Write a code cell that asks for an integer, an operation, and then a float and output the result."
      ]
    },
    {
      "cell_type": "code",
      "execution_count": 25,
      "metadata": {},
      "outputs": [
        {
          "name": "stdout",
          "output_type": "stream",
          "text": [
            "0.25\n"
          ]
        }
      ],
      "source": [
        "num1 = int(input(\"Please input your first number\"))\n",
        "operation = input(\"Please input your operation (+, -, *, /)\")\n",
        "num2 = float(input(\"Please input your second number\"))\n",
        "\n",
        "if operation == '+':\n",
        "  print(num1 + num2)\n",
        "elif operation == '-':\n",
        "  print(num1 - num2)\n",
        "elif operation == '*':\n",
        "  print(num1 * num2)\n",
        "elif operation == '/':\n",
        "  print(num1 / num2)"
      ]
    },
    {
      "cell_type": "code",
      "execution_count": null,
      "metadata": {},
      "outputs": [],
      "source": []
    }
  ],
  "metadata": {
    "kernelspec": {
      "display_name": "base",
      "language": "python",
      "name": "python3"
    },
    "language_info": {
      "codemirror_mode": {
        "name": "ipython",
        "version": 3
      },
      "file_extension": ".py",
      "mimetype": "text/x-python",
      "name": "python",
      "nbconvert_exporter": "python",
      "pygments_lexer": "ipython3",
      "version": "3.12.3"
    }
  },
  "nbformat": 4,
  "nbformat_minor": 4
}
