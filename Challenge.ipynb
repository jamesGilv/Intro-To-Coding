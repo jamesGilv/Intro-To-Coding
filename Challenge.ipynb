{
 "cells": [
  {
   "cell_type": "markdown",
   "metadata": {},
   "source": [
    "# Challenge Section\n",
    "Well done, you have finished the introduction to coding and have learned about 3 data types, strings, integers, and floats. You also know how to use if statements, loops, and lists.\n",
    "\n",
    "We will combine all of this to complete a very common coding challenge called 'FizzBuzz'.\n",
    "\n",
    "Before starting the challenge, we will learn about the modulo operation, given by '%', the percentage symbol.\n",
    "\n",
    "The modulo operation works by giving us the remainder of a division. For example, 5 % 3 will give us a value of 2, and 10 % 3 will give us a value of 1. When there is no remainder, we get the value of 0, such as in 10 % 5."
   ]
  },
  {
   "cell_type": "code",
   "execution_count": 10,
   "metadata": {},
   "outputs": [
    {
     "name": "stdout",
     "output_type": "stream",
     "text": [
      "2\n",
      "1\n",
      "0\n"
     ]
    }
   ],
   "source": [
    "print(5 % 3)\n",
    "\n",
    "print(10 % 3)\n",
    "\n",
    "print(10 % 5)"
   ]
  },
  {
   "cell_type": "markdown",
   "metadata": {},
   "source": [
    "It is also useful to learn a little more about if statements. A 'nested if' is where we have multiple if statements to pass through. This is seen in the following example, where we first check if a number if a multiple of 3, then a multiple of 5."
   ]
  },
  {
   "cell_type": "code",
   "execution_count": 5,
   "metadata": {},
   "outputs": [
    {
     "name": "stdout",
     "output_type": "stream",
     "text": [
      "Number is a multiple of 3 and 5\n",
      "Number is not a multiple of 3\n",
      "Number is not a multiple of 3\n",
      "Number is a multiple of 3, but not 5\n"
     ]
    }
   ],
   "source": [
    "numbers = [30, 31, 32, 33]\n",
    "\n",
    "for number in numbers:\n",
    "  if number % 3 == 0:\n",
    "    if number % 5 == 0:\n",
    "      print(\"Number is a multiple of 3 and 5\")\n",
    "    else:\n",
    "      print(\"Number is a multiple of 3, but not 5\")\n",
    "  else:\n",
    "    print(\"Number is not a multiple of 3\")"
   ]
  },
  {
   "cell_type": "markdown",
   "metadata": {},
   "source": [
    "If we want to have multiple conditions on the same line, we can use the 'and' keyword. The condition is only met if the number is a multiple of 3 $and$ 5."
   ]
  },
  {
   "cell_type": "code",
   "execution_count": null,
   "metadata": {},
   "outputs": [
    {
     "name": "stdout",
     "output_type": "stream",
     "text": [
      "Number is a multiple of 3 and 5\n",
      "Number is not a multiple of 3 and 5\n",
      "Number is not a multiple of 3 and 5\n",
      "Number is not a multiple of 3 and 5\n"
     ]
    }
   ],
   "source": [
    "numbers = [30, 31, 32, 33]\n",
    "\n",
    "for number in numbers:\n",
    "  if number % 3 == 0 and number % 5 == 0:\n",
    "      print(\"Number is a multiple of 3 and 5\")\n",
    "  else:\n",
    "    print(\"Number is not a multiple of 3 and 5\")"
   ]
  },
  {
   "cell_type": "markdown",
   "metadata": {},
   "source": [
    "We can also use the 'or' keyword so that if only one of our conditions is met, it still passes to the next line."
   ]
  },
  {
   "cell_type": "code",
   "execution_count": 9,
   "metadata": {},
   "outputs": [
    {
     "name": "stdout",
     "output_type": "stream",
     "text": [
      "Number is a multiple of 3 or 5\n",
      "Number is not a multiple of 3 or 5\n",
      "Number is not a multiple of 3 or 5\n",
      "Number is a multiple of 3 or 5\n"
     ]
    }
   ],
   "source": [
    "numbers = [30, 31, 32, 33]\n",
    "\n",
    "for number in numbers:\n",
    "  if number % 3 == 0 or number % 5 == 0:\n",
    "      print(\"Number is a multiple of 3 or 5\")\n",
    "  else:\n",
    "    print(\"Number is not a multiple of 3 or 5\")"
   ]
  },
  {
   "cell_type": "markdown",
   "metadata": {},
   "source": [
    "With all of this, we can now begin the challenge.\n",
    "\n",
    "In this challenge, you will count numbers starting from 1 and output them. If the number is a multiple of 3, output 'Fizz'. If the number is a multiple of 5, output 'Buzz'. If the number is a multiple of 3 and 5, output 'FizzBuzz'.\n",
    "\n",
    "For example, the numbers 1 to 20 would be output as follows:\n",
    "\n",
    "1\n",
    "\n",
    "2\n",
    "\n",
    "Fizz\n",
    "\n",
    "4\n",
    "\n",
    "Buzz\n",
    "\n",
    "Fizz\n",
    "\n",
    "7\n",
    "\n",
    "8\n",
    "\n",
    "Fizz\n",
    "\n",
    "Buzz\n",
    "\n",
    "11\n",
    "\n",
    "Fizz\n",
    "\n",
    "13\n",
    "\n",
    "14\n",
    "\n",
    "FizzBuzz\n",
    "\n",
    "16\n",
    "\n",
    "17\n",
    "\n",
    "Fizz\n",
    "\n",
    "19\n",
    "\n",
    "Buzz\n",
    "\n",
    "FizzBuzz is a great challenge as there are many different ways to do it, but we will stick the simplest one that uses a for loop, the range() function, and if statements."
   ]
  },
  {
   "cell_type": "code",
   "execution_count": null,
   "metadata": {},
   "outputs": [],
   "source": []
  }
 ],
 "metadata": {
  "kernelspec": {
   "display_name": "base",
   "language": "python",
   "name": "python3"
  },
  "language_info": {
   "codemirror_mode": {
    "name": "ipython",
    "version": 3
   },
   "file_extension": ".py",
   "mimetype": "text/x-python",
   "name": "python",
   "nbconvert_exporter": "python",
   "pygments_lexer": "ipython3",
   "version": "3.12.3"
  }
 },
 "nbformat": 4,
 "nbformat_minor": 2
}
